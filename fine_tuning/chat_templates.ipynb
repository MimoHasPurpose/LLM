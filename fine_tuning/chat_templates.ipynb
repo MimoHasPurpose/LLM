{
 "cells": [
  {
   "cell_type": "code",
   "execution_count": 1,
   "id": "5c022400-f2bb-41b4-a9ea-cb12351c7173",
   "metadata": {},
   "outputs": [
    {
     "name": "stdout",
     "output_type": "stream",
     "text": [
      "\n",
      "# conda environments:\n",
      "#\n",
      "base                   C:\\Users\\user\\miniconda3\n",
      "bullet_env             C:\\Users\\user\\miniconda3\\envs\\bullet_env\n",
      "cv                     C:\\Users\\user\\miniconda3\\envs\\cv\n",
      "django                 C:\\Users\\user\\miniconda3\\envs\\django\n",
      "env                    C:\\Users\\user\\miniconda3\\envs\\env\n",
      "llm                  * C:\\Users\\user\\miniconda3\\envs\\llm\n",
      "open                   C:\\Users\\user\\miniconda3\\envs\\open\n",
      "opengl                 C:\\Users\\user\\miniconda3\\envs\\opengl\n",
      "\n"
     ]
    }
   ],
   "source": [
    "!conda env list"
   ]
  },
  {
   "cell_type": "code",
   "execution_count": null,
   "id": "462bf12b-57eb-46f1-8f8c-75309263f461",
   "metadata": {},
   "outputs": [],
   "source": []
  },
  {
   "cell_type": "code",
   "execution_count": null,
   "id": "e30ffc77-4d77-44be-badc-62aaf8fd06e3",
   "metadata": {},
   "outputs": [],
   "source": []
  },
  {
   "cell_type": "code",
   "execution_count": null,
   "id": "8d07cb23-a9b5-4ac7-a999-99d3260614d3",
   "metadata": {},
   "outputs": [],
   "source": []
  }
 ],
 "metadata": {
  "kernelspec": {
   "display_name": "Python 3 (ipykernel)",
   "language": "python",
   "name": "python3"
  },
  "language_info": {
   "codemirror_mode": {
    "name": "ipython",
    "version": 3
   },
   "file_extension": ".py",
   "mimetype": "text/x-python",
   "name": "python",
   "nbconvert_exporter": "python",
   "pygments_lexer": "ipython3",
   "version": "3.12.3"
  }
 },
 "nbformat": 4,
 "nbformat_minor": 5
}
